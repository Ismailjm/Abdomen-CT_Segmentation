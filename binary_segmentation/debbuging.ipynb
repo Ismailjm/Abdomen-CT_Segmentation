{
 "cells": [
  {
   "cell_type": "code",
   "execution_count": 1,
   "id": "0fc62ee9",
   "metadata": {},
   "outputs": [],
   "source": [
    "import pandas as pd \n",
    "import os "
   ]
  },
  {
   "cell_type": "markdown",
   "id": "5d00ef46",
   "metadata": {},
   "source": [
    "# Classic"
   ]
  },
  {
   "cell_type": "code",
   "execution_count": 3,
   "id": "fd7e70f9",
   "metadata": {},
   "outputs": [],
   "source": [
    "root_path = \"/home/ieljamiy/RawData/split\""
   ]
  },
  {
   "cell_type": "code",
   "execution_count": 10,
   "id": "4fcedb9d",
   "metadata": {},
   "outputs": [
    {
     "data": {
      "text/plain": [
       "['img_001_0000.nii.gz',\n",
       " 'img_002_0000.nii.gz',\n",
       " 'img_003_0000.nii.gz',\n",
       " 'img_004_0000.nii.gz',\n",
       " 'img_005_0000.nii.gz',\n",
       " 'img_007_0000.nii.gz',\n",
       " 'img_008_0000.nii.gz',\n",
       " 'img_009_0000.nii.gz',\n",
       " 'img_011_0000.nii.gz',\n",
       " 'img_012_0000.nii.gz',\n",
       " 'img_015_0000.nii.gz',\n",
       " 'img_016_0000.nii.gz',\n",
       " 'img_017_0000.nii.gz',\n",
       " 'img_020_0000.nii.gz',\n",
       " 'img_021_0000.nii.gz',\n",
       " 'img_022_0000.nii.gz',\n",
       " 'img_023_0000.nii.gz',\n",
       " 'img_024_0000.nii.gz',\n",
       " 'img_025_0000.nii.gz',\n",
       " 'img_027_0000.nii.gz',\n",
       " 'img_028_0000.nii.gz',\n",
       " 'img_029_0000.nii.gz']"
      ]
     },
     "execution_count": 10,
     "metadata": {},
     "output_type": "execute_result"
    }
   ],
   "source": [
    "train_df = pd.read_csv(os.path.join(root_path, \"train_dataset.csv\"))\n",
    "unique_train_patients = train_df[\"img_path\"].unique()\n",
    "unique_train_patients = [os.path.basename(path) for path in unique_train_patients]\n",
    "unique_train_patients.sort()\n",
    "\n",
    "unique_train_patients"
   ]
  },
  {
   "cell_type": "code",
   "execution_count": 11,
   "id": "35d978b6",
   "metadata": {},
   "outputs": [
    {
     "data": {
      "text/plain": [
       "['img_000_0000.nii.gz',\n",
       " 'img_006_0000.nii.gz',\n",
       " 'img_013_0000.nii.gz',\n",
       " 'img_018_0000.nii.gz',\n",
       " 'img_026_0000.nii.gz']"
      ]
     },
     "execution_count": 11,
     "metadata": {},
     "output_type": "execute_result"
    }
   ],
   "source": [
    "val_df = pd.read_csv(os.path.join(root_path, \"test_dataset.csv\"))\n",
    "unique_val_patients = val_df[\"img_path\"].unique()\n",
    "unique_val_patients = [os.path.basename(path) for path in unique_val_patients]\n",
    "unique_val_patients.sort()\n",
    "\n",
    "unique_val_patients"
   ]
  },
  {
   "cell_type": "code",
   "execution_count": 14,
   "id": "b5e2a505",
   "metadata": {},
   "outputs": [
    {
     "data": {
      "text/plain": [
       "['img_000_0000.nii.gz',\n",
       " 'img_001_0000.nii.gz',\n",
       " 'img_002_0000.nii.gz',\n",
       " 'img_003_0000.nii.gz',\n",
       " 'img_004_0000.nii.gz',\n",
       " 'img_005_0000.nii.gz',\n",
       " 'img_006_0000.nii.gz',\n",
       " 'img_007_0000.nii.gz',\n",
       " 'img_008_0000.nii.gz',\n",
       " 'img_009_0000.nii.gz',\n",
       " 'img_011_0000.nii.gz',\n",
       " 'img_012_0000.nii.gz',\n",
       " 'img_013_0000.nii.gz',\n",
       " 'img_015_0000.nii.gz',\n",
       " 'img_016_0000.nii.gz',\n",
       " 'img_017_0000.nii.gz',\n",
       " 'img_018_0000.nii.gz',\n",
       " 'img_020_0000.nii.gz',\n",
       " 'img_021_0000.nii.gz',\n",
       " 'img_022_0000.nii.gz',\n",
       " 'img_023_0000.nii.gz',\n",
       " 'img_024_0000.nii.gz',\n",
       " 'img_025_0000.nii.gz',\n",
       " 'img_026_0000.nii.gz',\n",
       " 'img_027_0000.nii.gz',\n",
       " 'img_028_0000.nii.gz',\n",
       " 'img_029_0000.nii.gz']"
      ]
     },
     "execution_count": 14,
     "metadata": {},
     "output_type": "execute_result"
    }
   ],
   "source": [
    "unique_set_patients = unique_train_patients + unique_val_patients\n",
    "unique_set_patients.sort()\n",
    "unique_set_patients"
   ]
  },
  {
   "cell_type": "code",
   "execution_count": 15,
   "id": "974d5a8d",
   "metadata": {},
   "outputs": [
    {
     "data": {
      "text/plain": [
       "['img_001_0000.nii.gz',\n",
       " 'img_002_0000.nii.gz',\n",
       " 'img_004_0000.nii.gz',\n",
       " 'img_005_0000.nii.gz',\n",
       " 'img_006_0000.nii.gz',\n",
       " 'img_007_0000.nii.gz',\n",
       " 'img_008_0000.nii.gz',\n",
       " 'img_009_0000.nii.gz',\n",
       " 'img_010_0000.nii.gz',\n",
       " 'img_011_0000.nii.gz',\n",
       " 'img_012_0000.nii.gz',\n",
       " 'img_013_0000.nii.gz',\n",
       " 'img_014_0000.nii.gz',\n",
       " 'img_015_0000.nii.gz',\n",
       " 'img_016_0000.nii.gz',\n",
       " 'img_017_0000.nii.gz',\n",
       " 'img_018_0000.nii.gz',\n",
       " 'img_019_0000.nii.gz',\n",
       " 'img_021_0000.nii.gz',\n",
       " 'img_022_0000.nii.gz',\n",
       " 'img_023_0000.nii.gz',\n",
       " 'img_024_0000.nii.gz',\n",
       " 'img_025_0000.nii.gz',\n",
       " 'img_026_0000.nii.gz',\n",
       " 'img_027_0000.nii.gz',\n",
       " 'img_028_0000.nii.gz',\n",
       " 'img_029_0000.nii.gz']"
      ]
     },
     "execution_count": 15,
     "metadata": {},
     "output_type": "execute_result"
    }
   ],
   "source": [
    "meta_train = pd.read_csv(\"/home/ieljamiy/RawData/meta_train.csv\")\n",
    "unique_meta_train_patients = meta_train[\"img_path\"].unique()\n",
    "unique_meta_train_patients = [os.path.basename(path) for path in unique_meta_train_patients]\n",
    "unique_meta_train_patients.sort()\n",
    "unique_meta_train_patients"
   ]
  },
  {
   "cell_type": "code",
   "execution_count": null,
   "id": "a54c52a2",
   "metadata": {},
   "outputs": [],
   "source": []
  }
 ],
 "metadata": {
  "kernelspec": {
   "display_name": "meta-env",
   "language": "python",
   "name": "python3"
  },
  "language_info": {
   "codemirror_mode": {
    "name": "ipython",
    "version": 3
   },
   "file_extension": ".py",
   "mimetype": "text/x-python",
   "name": "python",
   "nbconvert_exporter": "python",
   "pygments_lexer": "ipython3",
   "version": "3.9.2"
  }
 },
 "nbformat": 4,
 "nbformat_minor": 5
}
