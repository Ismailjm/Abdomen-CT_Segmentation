{
 "cells": [
  {
   "cell_type": "markdown",
   "metadata": {},
   "source": [
    "## Variables"
   ]
  },
  {
   "cell_type": "code",
   "execution_count": 1,
   "metadata": {},
   "outputs": [],
   "source": [
    "data_path = \"/home/ismail/projet_PFE/Hands-on-nnUNet/nnUNetFrame/dataset/RawData\""
   ]
  },
  {
   "cell_type": "markdown",
   "metadata": {},
   "source": [
    "## Functions"
   ]
  },
  {
   "cell_type": "code",
   "execution_count": null,
   "metadata": {},
   "outputs": [],
   "source": [
    "def organ_mapper():\n",
    "    label_dict = {\n",
    "        0: \"background\",\n",
    "        1: \"spleen\",\n",
    "        2: \"right kidney\",\n",
    "        3: \"left kidney\",\n",
    "        4: \"gallbladder\",\n",
    "        5: \"esophagus\",\n",
    "        6: \"liver\",\n",
    "        7: \"stomach\",\n",
    "        8: \"aorta\",\n",
    "        9: \"inferior vena cava\",\n",
    "        10: \"portal vein & splenic vein\",\n",
    "        11: \"pancreas\",\n",
    "        12: \"right adrenal gland\",\n",
    "        13: \"left adrenal gland\",\n",
    "    }\n",
    "    key_to_organ = label_dict\n",
    "    organ_to_key = {v.lower(): k for k, v in label_dict.items()}\n",
    "    return key_to_organ, organ_to_key\n",
    "\n",
    "\n",
    "def transform_to_csv(data_root):\n",
    "    \"\"\"\n",
    "    Transform the BTCV dataset to a csv file.\n",
    "    Args:\n",
    "        data_root (str): path to the BTCV dataset.\n",
    "\n",
    "    Returns:\n",
    "        annotations (list): list of dictionaries containing the images and their masks with a list of organs available in each scan.\n",
    "\n",
    "    \"\"\"\n",
    "\n",
    "    annotations = []\n",
    "    images_dir = os.path.join(data_root, \"imagesTr\")\n",
    "    masks_dir = os.path.join(data_root, \"labelsTr\")\n",
    "    imgs = [images_dir + \"/\" + f for f in sorted(os.listdir(images_dir))]\n",
    "    masks = [masks_dir + \"/\" + f for f in sorted(os.listdir(masks_dir))]\n",
    "\n",
    "    for img_path, mask_path in zip(imgs, masks):\n",
    "        mask_nifti = nib.load(mask_path)\n",
    "        mask_data = mask_nifti.get_fdata()\n",
    "        organs = [int(organ) for organ in np.unique(mask_data).tolist()]\n",
    "        annotations.append(\n",
    "            {\"img_path\": img_path, \"mask_path\": mask_path, \"organs\": organs}\n",
    "        )\n",
    "\n",
    "    annotations_df = pd.DataFrame(annotations)\n",
    "    # Save to CSV\n",
    "    annotations_df.to_csv(os.path.join(data_root, \"dataset.csv\"), index=False, sep=\",\")\n",
    "\n",
    "    return annotations"
   ]
  },
  {
   "cell_type": "code",
   "execution_count": null,
   "metadata": {},
   "outputs": [],
   "source": [
    "def clip_and_rescale(ct_array, min_hu=-175, max_hu=250):\n",
    "    clipped = np.clip(ct_array, min_hu, max_hu)\n",
    "    return (clipped + abs(min_hu)) / (max_hu + abs(min_hu))\n",
    "\n",
    "def to_tensor(image, mask):\n",
    "    img_t = torch.from_numpy(image).float().unsqueeze(0)  # or permute channels\n",
    "    msk_t = torch.from_numpy(mask).float().unsqueeze(0)\n",
    "    return img_t, msk_t\n",
    "\n",
    "def save_as_png(nii_path, output_dir, z):\n",
    "    \"\"\"\n",
    "    Save the input in the output directory as png file.\n",
    "    Args:\n",
    "        nii_path (string): path of the input\n",
    "        output_dir (string): path of the output directory\n",
    "        z (int): index of the slice\n",
    "    \"\"\"\n",
    "    base_name = os.path.basename(nii_path).replace(\".nii.gz\", \"\")\n",
    "    slice_name = f\"{base_name}_slice{z:03d}.png\"\n",
    "    os.makedirs(output_dir, exist_ok=True)\n",
    "    output_path = os.path.join(output_dir, slice_name)\n",
    "\n",
    "    return output_path"
   ]
  },
  {
   "cell_type": "markdown",
   "metadata": {},
   "source": [
    "# 2D Dataset"
   ]
  },
  {
   "cell_type": "code",
   "execution_count": null,
   "metadata": {},
   "outputs": [],
   "source": [
    "def load_n_slices_per_organ(annotations ,organs, n_slices):\n",
    "    \"\"\"\n",
    "    Load a specific number of slices from the BTCV dataset.\n",
    "    Args:\n",
    "        n_slices (int): Number of slices to load.\n",
    "\n",
    "    Returns:\n",
    "        slices_df (list): List of loaded slices.\n",
    "    \"\"\"\n",
    "    slices_df = []\n",
    "    key_to_organ, organ_to_key = organ_mapper()\n",
    "    for annotation in annotations:\n",
    "        for organ in organs:\n",
    "            organ_key = organ_to_key.get(organ)\n",
    "            if organ_key not in annotation[\"organs\"]:\n",
    "                print(f\"Organ {organ} not found in annotation for {annotation['img_path']}. Skipping.\")\n",
    "                continue\n",
    "            img_path = annotation[\"img_path\"]\n",
    "            mask_path = annotation[\"mask_path\"]\n",
    "            img = sitk.ReadImage(img_path)\n",
    "            mask = sitk.ReadImage(mask_path)\n",
    "            img_arr = sitk.GetArrayFromImage(img)  # Shape: (Depth, Height, Width)\n",
    "            mask_arr = sitk.GetArrayFromImage(mask)  # Shape: (Depth, Height, Width)\n",
    "\n",
    "            \n",
    "            slices_with_organ = np.any(mask_arr == organ_key, axis=(1, 2))\n",
    "            slice_indices = np.where(slices_with_organ)[0].tolist()\n",
    "            middle_slice = (slice_indices[-1] + slice_indices[0]) // 2\n",
    "            slices_counter = 0\n",
    "            for i in range(middle_slice - round((n_slices) / 2), middle_slice + math.ceil(n_slices / 2) + 1):\n",
    "                slices_df.append(\n",
    "                    {\n",
    "                        \"img_path\": img_path,\n",
    "                        \"mask_path\": mask_path,\n",
    "                        \"slice_index\": i,\n",
    "                        \"organ\": organ,\n",
    "                    }\n",
    "                )\n",
    "                slices_counter += 1\n",
    "                if slices_counter >= n_slices:\n",
    "                    break\n",
    "                \n",
    "    slices_df = pd.DataFrame(slices_df)\n",
    "    return slices_df\n"
   ]
  }
 ],
 "metadata": {
  "kernelspec": {
   "display_name": "meta-env",
   "language": "python",
   "name": "python3"
  },
  "language_info": {
   "codemirror_mode": {
    "name": "ipython",
    "version": 3
   },
   "file_extension": ".py",
   "mimetype": "text/x-python",
   "name": "python",
   "nbconvert_exporter": "python",
   "pygments_lexer": "ipython3",
   "version": "3.10.12"
  }
 },
 "nbformat": 4,
 "nbformat_minor": 2
}
